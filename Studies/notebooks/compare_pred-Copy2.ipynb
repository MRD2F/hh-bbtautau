{
 "cells": [
  {
   "cell_type": "code",
   "execution_count": 1,
   "metadata": {},
   "outputs": [],
   "source": [
    "import pandas as pd\n",
    "import numpy as np\n",
    "import tensorflow as tf\n",
    "import matplotlib.pyplot as plt\n",
    "# from common import *"
   ]
  },
  {
   "cell_type": "code",
   "execution_count": 2,
   "metadata": {},
   "outputs": [],
   "source": [
    "pred = np.load('pred_X_1_model_0_2017.npy')"
   ]
  },
  {
   "cell_type": "code",
   "execution_count": 5,
   "metadata": {},
   "outputs": [],
   "source": [
    "# s = np.sum(pred, axis=1, keepdims=True )\n",
    "# pred = pred * 2 / s"
   ]
  },
  {
   "cell_type": "code",
   "execution_count": 3,
   "metadata": {},
   "outputs": [],
   "source": [
    "pred_original = np.load('pred_par0_2016.npy')"
   ]
  },
  {
   "cell_type": "code",
   "execution_count": 4,
   "metadata": {},
   "outputs": [
    {
     "name": "stdout",
     "output_type": "stream",
     "text": [
      "(315770, 10)\n",
      "(315770, 10)\n"
     ]
    }
   ],
   "source": [
    "print(pred.shape)\n",
    "print(pred_original.shape)"
   ]
  },
  {
   "cell_type": "code",
   "execution_count": 5,
   "metadata": {},
   "outputs": [
    {
     "name": "stdout",
     "output_type": "stream",
     "text": [
      "0.0018973819\n",
      "diff, 0.0018973819\n"
     ]
    },
    {
     "data": {
      "image/png": "[encoded data removed]",
      "text/plain": [
       "<Figure size 432x288 with 1 Axes>"
      ]
     },
     "metadata": {
      "needs_background": "light"
     },
     "output_type": "display_data"
    }
   ],
   "source": [
    "print(np.amax(np.abs(pred - pred_original)))\n",
    "plt.hist(pred - pred_original);\n",
    "np.argmax(np.abs(pred - pred_original))\n",
    "diff = np.abs(np.abs(pred - pred_original))\n",
    "print('diff,',np.amax(diff))"
   ]
  },
  {
   "cell_type": "code",
   "execution_count": 48,
   "metadata": {},
   "outputs": [
    {
     "name": "stdout",
     "output_type": "stream",
     "text": [
      "(array([     0,      0,      0, ..., 946040, 946040, 946040]), array([0, 1, 2, ..., 1, 2, 3]))\n",
      "diff, [[1.9671917e-03 1.6583800e-03 1.3827783e-05 ... 0.0000000e+00\n",
      "  0.0000000e+00 0.0000000e+00]\n",
      " [2.9120028e-01 1.3768085e-05 1.5714478e-01 ... 0.0000000e+00\n",
      "  0.0000000e+00 0.0000000e+00]\n",
      " [4.0221941e-01 1.1783838e-02 1.4228137e-05 ... 0.0000000e+00\n",
      "  0.0000000e+00 0.0000000e+00]\n",
      " ...\n",
      " [3.4158826e-03 3.2285452e-03 0.0000000e+00 ... 0.0000000e+00\n",
      "  0.0000000e+00 0.0000000e+00]\n",
      " [7.3164701e-04 1.1019707e-03 1.3946974e-05 ... 0.0000000e+00\n",
      "  0.0000000e+00 0.0000000e+00]\n",
      " [8.3613396e-04 8.7004900e-04 1.3738375e-05 ... 0.0000000e+00\n",
      "  0.0000000e+00 0.0000000e+00]]\n"
     ]
    }
   ],
   "source": [
    "diff = np.abs(pred - pred_original)\n",
    "if (diff > 1.0).any() :\n",
    "    print(np.where(diff))\n",
    "    print('diff,',diff)\n"
   ]
  },
  {
   "cell_type": "code",
   "execution_count": 45,
   "metadata": {},
   "outputs": [
    {
     "data": {
      "text/plain": [
       "array([[1.9671917e-03, 1.6583800e-03, 1.3827783e-05, ..., 0.0000000e+00,\n",
       "        0.0000000e+00, 0.0000000e+00],\n",
       "       [2.9120028e-01, 1.3768085e-05, 1.5714478e-01, ..., 0.0000000e+00,\n",
       "        0.0000000e+00, 0.0000000e+00],\n",
       "       [4.0221941e-01, 1.1783838e-02, 1.4228137e-05, ..., 0.0000000e+00,\n",
       "        0.0000000e+00, 0.0000000e+00],\n",
       "       ...,\n",
       "       [3.4158826e-03, 3.2285452e-03, 0.0000000e+00, ..., 0.0000000e+00,\n",
       "        0.0000000e+00, 0.0000000e+00],\n",
       "       [7.3164701e-04, 1.1019707e-03, 1.3946974e-05, ..., 0.0000000e+00,\n",
       "        0.0000000e+00, 0.0000000e+00],\n",
       "       [8.3613396e-04, 8.7004900e-04, 1.3738375e-05, ..., 0.0000000e+00,\n",
       "        0.0000000e+00, 0.0000000e+00]], dtype=float32)"
      ]
     },
     "execution_count": 45,
     "metadata": {},
     "output_type": "execute_result"
    }
   ],
   "source": [
    "diff"
   ]
  },
  {
   "cell_type": "code",
   "execution_count": 37,
   "metadata": {},
   "outputs": [
    {
     "data": {
      "text/plain": [
       "array([9.9914742e-01, 1.0008526e+00, 4.9533377e-10, 4.9790455e-10],\n",
       "      dtype=float32)"
      ]
     },
     "execution_count": 37,
     "metadata": {},
     "output_type": "execute_result"
    }
   ],
   "source": [
    "pred[946040, :4]"
   ]
  },
  {
   "cell_type": "code",
   "execution_count": 66,
   "metadata": {},
   "outputs": [],
   "source": []
  },
  {
   "cell_type": "code",
   "execution_count": 75,
   "metadata": {},
   "outputs": [
    {
     "data": {
      "text/plain": [
       "(array([   188,   4437,   7850,  10111,  11478,  13693,  21808,  24959,\n",
       "         27887,  30301,  32220,  32777,  34529,  38274,  42642,  44797,\n",
       "         51224,  60785,  61890,  62827,  63162,  66036,  68741,  70308,\n",
       "         72212,  73012,  73560,  74796,  74841,  75725,  83686,  86835,\n",
       "         87631,  88612,  92408,  92705,  97529, 103487, 108790, 113241,\n",
       "        124204, 126564, 127710, 130133, 133649, 146617, 148977, 151891,\n",
       "        152319, 161569, 162825, 168739, 168751, 169882, 170746, 171070,\n",
       "        171849, 172225, 172944, 175744, 176030, 180017, 182129, 182324,\n",
       "        185003, 186570, 189042, 190570, 192993, 194930, 199685, 202512,\n",
       "        202585, 205322, 207602, 209998, 214282, 216005, 219088, 221292,\n",
       "        221466, 223513, 223555, 223665, 229158, 230142, 232466, 233951,\n",
       "        234929, 236223, 253240, 254464, 259725, 261086, 265135, 269883,\n",
       "        270270, 272269, 277860, 296335, 300207, 302662, 302873, 304270,\n",
       "        304651, 311820, 319407, 322698, 326101, 326894, 327022, 330514,\n",
       "        338857, 344539, 350488, 354730, 363839, 365901, 370501, 370780,\n",
       "        373695, 374126, 380044, 382245, 383970, 384682, 386293, 386767,\n",
       "        387167, 393395, 397487, 402940, 405552, 413067, 414541, 415576,\n",
       "        418558, 419289, 419567, 434276, 435383, 438015, 445898, 448297,\n",
       "        469741, 474310, 474945, 475499, 478171, 484927, 488284, 495754,\n",
       "        496896, 498657, 503893, 512346, 513426, 515819, 526667, 541518,\n",
       "        543333, 544383, 554161, 556997, 562688, 568581, 570876, 572342,\n",
       "        574372, 580620, 580990, 581169, 581797, 584548, 585619, 591674,\n",
       "        591926, 593955, 595573, 597409, 599417, 599692, 602493, 603059,\n",
       "        612178, 614069, 618764, 619746, 619966, 620126, 622242, 623541,\n",
       "        626018, 627496, 632846, 635936, 636429, 639197, 642545, 646627,\n",
       "        652942, 662521, 664519, 667347, 672417, 673015, 677442, 687131,\n",
       "        690053, 690981, 692346, 692980, 693352, 694396, 702797, 711024,\n",
       "        711496, 717610, 719072, 722548, 738212, 738416, 738811, 741820,\n",
       "        742773, 742779, 743903, 753311, 753404, 762293, 764010, 768542,\n",
       "        768744, 771178, 772713, 775667, 776064, 776438, 779082, 784683,\n",
       "        784720, 785226, 787054, 796250, 796289, 800596, 801317, 802246,\n",
       "        803220, 804886, 805557, 806438, 807316, 809370, 813032, 814671,\n",
       "        820806, 827178, 827306, 832139, 833720, 834465, 840381, 841314,\n",
       "        841805, 846031, 851955, 855973, 859731, 861957, 862717, 865935,\n",
       "        866069, 868090, 869334, 870919, 874340, 875466, 879972, 883295,\n",
       "        886992, 887184, 891844, 893134, 897563, 900956, 901389, 902740,\n",
       "        906288, 916885, 919146, 921545, 922417, 925620, 930973, 933118,\n",
       "        939327, 939634, 943027, 944099, 945224]),\n",
       " array([0, 0, 0, 0, 0, 0, 0, 0, 0, 0, 0, 0, 0, 0, 0, 0, 0, 0, 0, 0, 0, 0,\n",
       "        0, 0, 0, 0, 0, 0, 0, 0, 0, 0, 0, 0, 0, 0, 0, 0, 0, 0, 0, 0, 0, 0,\n",
       "        0, 0, 0, 0, 0, 0, 0, 0, 0, 0, 0, 0, 0, 0, 0, 0, 0, 0, 0, 0, 0, 0,\n",
       "        0, 0, 0, 0, 0, 0, 0, 0, 0, 0, 0, 0, 0, 0, 0, 0, 0, 0, 0, 0, 0, 2,\n",
       "        0, 3, 0, 0, 0, 0, 0, 0, 0, 0, 0, 0, 0, 0, 0, 0, 0, 0, 0, 0, 0, 0,\n",
       "        0, 0, 0, 2, 0, 0, 0, 0, 0, 0, 0, 0, 0, 0, 0, 0, 0, 0, 0, 0, 0, 0,\n",
       "        0, 0, 0, 0, 0, 0, 0, 0, 0, 0, 0, 0, 0, 0, 0, 0, 0, 0, 0, 0, 0, 0,\n",
       "        0, 0, 0, 0, 0, 0, 0, 0, 0, 0, 0, 0, 0, 0, 0, 0, 0, 0, 0, 0, 0, 0,\n",
       "        0, 0, 0, 0, 0, 0, 0, 0, 0, 0, 0, 0, 0, 0, 0, 0, 0, 0, 0, 0, 0, 0,\n",
       "        0, 0, 0, 0, 0, 0, 0, 0, 0, 0, 0, 0, 0, 0, 0, 0, 0, 0, 0, 0, 0, 0,\n",
       "        0, 0, 0, 0, 0, 0, 0, 0, 0, 0, 0, 0, 0, 0, 0, 0, 0, 0, 0, 0, 0, 0,\n",
       "        0, 0, 0, 0, 0, 0, 0, 0, 0, 0, 0, 0, 0, 0, 0, 0, 0, 0, 0, 0, 0, 0,\n",
       "        0, 0, 0, 0, 0, 0, 0, 0, 0, 0, 0, 0, 0, 0, 0, 0, 0, 0, 0, 0, 0, 0,\n",
       "        0, 0, 0, 0, 0, 0, 0, 0, 0, 0, 0, 0, 0, 0, 0]))"
      ]
     },
     "execution_count": 75,
     "metadata": {},
     "output_type": "execute_result"
    }
   ],
   "source": [
    "np.where(diff > 1.)"
   ]
  },
  {
   "cell_type": "code",
   "execution_count": 76,
   "metadata": {},
   "outputs": [
    {
     "name": "stdout",
     "output_type": "stream",
     "text": [
      "[2.0000000e+00 9.7428883e-09 2.2624598e-09 0.0000000e+00 0.0000000e+00]\n",
      "[9.9996197e-01 4.3516338e-02 1.4662743e-05 0.0000000e+00 0.0000000e+00]\n",
      "[1.0000380e+00 4.3516327e-02 1.4660480e-05 0.0000000e+00 0.0000000e+00]\n"
     ]
    }
   ],
   "source": [
    "x = 722548\n",
    "jets = 5\n",
    "\n",
    "print(pred[x, :jets])\n",
    "print(pred_original[x, :jets])\n",
    "print(np.abs(pred_original[x, :jets] - pred[x,:jets]))"
   ]
  },
  {
   "cell_type": "code",
   "execution_count": null,
   "metadata": {},
   "outputs": [],
   "source": [
    "print(np.amax(np.abs(pred - pred_original)))\n",
    "plt.hist(pred - pred_original);\n",
    "np.argmax(np.abs(pred - pred_original))"
   ]
  },
  {
   "cell_type": "code",
   "execution_count": 21,
   "metadata": {},
   "outputs": [
    {
     "name": "stdout",
     "output_type": "stream",
     "text": [
      "9.0459957625e-06\n"
     ]
    }
   ],
   "source": [
    "C = (4.96392829e-07+ 1.40078935e-08+ 8.53559504e-06)\n",
    "print(C)"
   ]
  },
  {
   "cell_type": "code",
   "execution_count": 15,
   "metadata": {},
   "outputs": [],
   "source": [
    "x = [4.96392829e-07, 1.40078935e-08, 8.53559504e-06]"
   ]
  },
  {
   "cell_type": "code",
   "execution_count": 20,
   "metadata": {},
   "outputs": [
    {
     "data": {
      "text/plain": [
       "1.8871543308441827"
      ]
     },
     "execution_count": 20,
     "metadata": {},
     "output_type": "execute_result"
    }
   ],
   "source": [
    "8.53559504e-06 * 221092.29901377592"
   ]
  },
  {
   "cell_type": "code",
   "execution_count": 23,
   "metadata": {},
   "outputs": [
    {
     "name": "stdout",
     "output_type": "stream",
     "text": [
      "1.887154330844183\n"
     ]
    }
   ],
   "source": [
    "a = (2 * 8.53559504e-06) /  9.0459957625e-06\n",
    "print(a)"
   ]
  },
  {
   "cell_type": "code",
   "execution_count": null,
   "metadata": {},
   "outputs": [],
   "source": [
    "np.abs(pred - pred_original)[2929, :]"
   ]
  },
  {
   "cell_type": "code",
   "execution_count": null,
   "metadata": {},
   "outputs": [],
   "source": [
    "pred_original[2929, :]"
   ]
  },
  {
   "cell_type": "code",
   "execution_count": null,
   "metadata": {},
   "outputs": [],
   "source": [
    "print(np.amax(np.abs(pred - pred_original)))\n",
    "plt.hist(pred - pred_original);"
   ]
  },
  {
   "cell_type": "code",
   "execution_count": null,
   "metadata": {},
   "outputs": [],
   "source": [
    "np.array_equal(pred_original,pred)"
   ]
  },
  {
   "cell_type": "code",
   "execution_count": 6,
   "metadata": {},
   "outputs": [],
   "source": [
    "diff = pred - pred_original"
   ]
  },
  {
   "cell_type": "code",
   "execution_count": 7,
   "metadata": {},
   "outputs": [
    {
     "data": {
      "text/plain": [
       "(944934, 10)"
      ]
     },
     "execution_count": 7,
     "metadata": {},
     "output_type": "execute_result"
    }
   ],
   "source": [
    "diff.shape"
   ]
  },
  {
   "cell_type": "code",
   "execution_count": 8,
   "metadata": {},
   "outputs": [],
   "source": [
    "diff_scores = np.abs(diff)"
   ]
  },
  {
   "cell_type": "code",
   "execution_count": 16,
   "metadata": {},
   "outputs": [
    {
     "data": {
      "text/plain": [
       "array([1.9671917e-03, 1.6583800e-03, 1.3827783e-05, 1.3798038e-05,\n",
       "       0.0000000e+00, 0.0000000e+00, 0.0000000e+00, 0.0000000e+00,\n",
       "       0.0000000e+00, 0.0000000e+00], dtype=float32)"
      ]
     },
     "execution_count": 16,
     "metadata": {},
     "output_type": "execute_result"
    }
   ],
   "source": [
    "diff_scores[0]"
   ]
  },
  {
   "cell_type": "code",
   "execution_count": 9,
   "metadata": {
    "scrolled": true
   },
   "outputs": [
    {
     "data": {
      "text/plain": [
       "0.09254789"
      ]
     },
     "execution_count": 9,
     "metadata": {},
     "output_type": "execute_result"
    }
   ],
   "source": [
    "np.mean(diff_scores[0])"
   ]
  },
  {
   "cell_type": "code",
   "execution_count": null,
   "metadata": {
    "scrolled": true
   },
   "outputs": [],
   "source": [
    "np.mean(diff_scores[0])"
   ]
  },
  {
   "cell_type": "code",
   "execution_count": null,
   "metadata": {
    "scrolled": true
   },
   "outputs": [],
   "source": [
    "np.mean(diff_scores[0])"
   ]
  },
  {
   "cell_type": "code",
   "execution_count": null,
   "metadata": {},
   "outputs": [],
   "source": [
    "max_diff = np.amax(np.abs(diff))\n",
    "# print(max_diff)\n",
    "print(\"{:.6}\".format(max_diff))\n",
    "plt.hist(diff, bins=np.linspace(-max_diff, max_diff, 30))\n",
    "# plt.hist(diff, bins=np.linspace(-1e-5, 1e-5, 30))\n",
    "plt.yscale('log')\n",
    "print(pred_original[np.abs(diff) > max_diff *0.9])"
   ]
  },
  {
   "cell_type": "code",
   "execution_count": null,
   "metadata": {},
   "outputs": [],
   "source": [
    "a = np.array([[[9.4771385e-06],\n",
    "  [8.9406967e-08],\n",
    "  [0.0000000e+00],\n",
    "  [4.3809414e-06],\n",
    "  [2.3354590e-03],\n",
    "  [2.3354590e-03],\n",
    "  [2.3354590e-03],\n",
    "  [2.3354590e-03],\n",
    "  [2.3354404e-03],\n",
    "  [2.3354404e-03]]]\n",
    ")"
   ]
  },
  {
   "cell_type": "code",
   "execution_count": null,
   "metadata": {},
   "outputs": [],
   "source": [
    "b = np.array([[[9.4838351e-06],\n",
    "  [3.2189821e-08],\n",
    "  [8.8993239e-09],\n",
    "  [4.3864306e-06],\n",
    "  [4.3864306e-06],\n",
    "  [4.3864306e-06],\n",
    "  [4.3864306e-06],\n",
    "  [4.3864306e-06],\n",
    "  [4.3864306e-06],\n",
    "  [4.3864306e-06]]])"
   ]
  },
  {
   "cell_type": "code",
   "execution_count": null,
   "metadata": {},
   "outputs": [],
   "source": [
    "np.amax(np.abs(a[0,0:4, :]- b[0, 0:4, :]))"
   ]
  },
  {
   "cell_type": "code",
   "execution_count": null,
   "metadata": {},
   "outputs": [],
   "source": [
    "plt.hist((a[0, 0:4, :]- b[0, 0:4, :]).flatten())"
   ]
  },
  {
   "cell_type": "code",
   "execution_count": null,
   "metadata": {},
   "outputs": [],
   "source": [
    "a.shape"
   ]
  },
  {
   "cell_type": "code",
   "execution_count": null,
   "metadata": {},
   "outputs": [],
   "source": []
  }
 ],
 "metadata": {
  "kernelspec": {
   "display_name": "Python 3",
   "language": "python",
   "name": "python3"
  },
  "language_info": {
   "codemirror_mode": {
    "name": "ipython",
    "version": 3
   },
   "file_extension": ".py",
   "mimetype": "text/x-python",
   "name": "python",
   "nbconvert_exporter": "python",
   "pygments_lexer": "ipython3",
   "version": "3.6.8"
  }
 },
 "nbformat": 4,
 "nbformat_minor": 2
}
